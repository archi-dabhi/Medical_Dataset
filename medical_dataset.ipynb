{
  "nbformat": 4,
  "nbformat_minor": 0,
  "metadata": {
    "colab": {
      "provenance": [],
      "authorship_tag": "ABX9TyO6P+kA1eGlKGczuT56ihYn",
      "include_colab_link": true
    },
    "kernelspec": {
      "name": "python3",
      "display_name": "Python 3"
    },
    "language_info": {
      "name": "python"
    }
  },
  "cells": [
    {
      "cell_type": "markdown",
      "metadata": {
        "id": "view-in-github",
        "colab_type": "text"
      },
      "source": [
        "<a href=\"https://colab.research.google.com/github/archi-dabhi/Medical_Dataset/blob/main/medical_dataset.ipynb\" target=\"_parent\"><img src=\"https://colab.research.google.com/assets/colab-badge.svg\" alt=\"Open In Colab\"/></a>"
      ]
    },
    {
      "cell_type": "code",
      "execution_count": 28,
      "metadata": {
        "colab": {
          "base_uri": "https://localhost:8080/"
        },
        "id": "0AEbWH4eIm-j",
        "outputId": "3211f16d-49f5-4e92-a029-7ee366ef0a7c"
      },
      "outputs": [
        {
          "output_type": "stream",
          "name": "stdout",
          "text": [
            "      PatientId  AppointmentID Gender          ScheduledDay  \\\n",
            "0  2.987250e+13        5642903      F  2016-04-29T18:38:08Z   \n",
            "1  5.589980e+14        5642503      M  2016-04-29T16:08:27Z   \n",
            "2  4.262960e+12        5642549      F  2016-04-29T16:19:04Z   \n",
            "3  8.679510e+11        5642828      F  2016-04-29T17:29:31Z   \n",
            "4  8.841190e+12        5642494      F  2016-04-29T16:07:23Z   \n",
            "\n",
            "         AppointmentDay  Age      Neighbourhood  Scholarship  Hipertension  \\\n",
            "0  2016-04-29T00:00:00Z   62    JARDIM DA PENHA            0             1   \n",
            "1  2016-04-29T00:00:00Z   56    JARDIM DA PENHA            0             0   \n",
            "2  2016-04-29T00:00:00Z   62      MATA DA PRAIA            0             0   \n",
            "3  2016-04-29T00:00:00Z    8  PONTAL DE CAMBURI            0             0   \n",
            "4  2016-04-29T00:00:00Z   56    JARDIM DA PENHA            0             1   \n",
            "\n",
            "   Diabetes  Alcoholism  Handcap  SMS_received No-show  \n",
            "0         0           0        0             0      No  \n",
            "1         0           0        0             0      No  \n",
            "2         0           0        0             0      No  \n",
            "3         0           0        0             0      No  \n",
            "4         1           0        0             0      No  \n",
            "Missing value is: PatientId         0\n",
            "AppointmentID     0\n",
            "Gender            0\n",
            "ScheduledDay      0\n",
            "AppointmentDay    0\n",
            "Age               0\n",
            "Neighbourhood     0\n",
            "Scholarship       0\n",
            "Hipertension      0\n",
            "Diabetes          0\n",
            "Alcoholism        0\n",
            "Handcap           0\n",
            "SMS_received      0\n",
            "No-show           0\n",
            "dtype: int64\n",
            "After dropping missing values: (110527, 14)\n",
            "After dropping duplicates: (110527, 14)\n",
            "Unique 'Gender' values: ['F' 'M']\n",
            "Unique 'No-show' values: ['NO' 'YES']\n",
            "  ScheduledDay AppointmentDay\n",
            "0   29-04-2016     29-04-2016\n",
            "1   29-04-2016     29-04-2016\n",
            "2   29-04-2016     29-04-2016\n",
            "3   29-04-2016     29-04-2016\n",
            "4   29-04-2016     29-04-2016\n",
            "Cleaned column data:\n",
            " ['patientid', 'appointmentid', 'gender', 'scheduledday', 'appointmentday', 'age', 'neighbourhood', 'scholarship', 'hipertension', 'diabetes', 'alcoholism', 'handcap', 'sms_received', 'no_show']\n",
            "patientid         object\n",
            "appointmentid      int64\n",
            "gender            object\n",
            "scheduledday      object\n",
            "appointmentday    object\n",
            "age                int64\n",
            "neighbourhood     object\n",
            "scholarship        int64\n",
            "hipertension       int64\n",
            "diabetes           int64\n",
            "alcoholism         int64\n",
            "handcap            int64\n",
            "sms_received       int64\n",
            "no_show           object\n",
            "dtype: object\n"
          ]
        }
      ],
      "source": [
        "import pandas as pd\n",
        "\n",
        "#Load Dataset\n",
        "\n",
        "df = pd.read_csv(\"medical_dataset.csv\")\n",
        "print(df.head())\n",
        "\n",
        "#Identify and handle missing values\n",
        "\n",
        "missing_value = df.isnull().sum()\n",
        "print(\"Missing value is:\",missing_value)\n",
        "\n",
        "df = df.dropna()\n",
        "print(\"After dropping missing values:\",df.shape)\n",
        "\n",
        "\n",
        "#Remove duplicate rows using .drop_duplicates()\n",
        "\n",
        "df = df.drop_duplicates()\n",
        "print(\"After dropping duplicates:\",df.shape)\n",
        "\n",
        "\n",
        "#Standardize text values\n",
        "\n",
        "df['Gender'] = df['Gender'].str.strip().str.upper()\n",
        "print(\"Unique 'Gender' values:\",df['Gender'].unique())\n",
        "\n",
        "df['No-show'] = df['No-show'].str.strip().str.upper()\n",
        "print(\"Unique 'No-show' values:\",df['No-show'].unique())\n",
        "\n",
        "\n",
        "#Convert data format\n",
        "\n",
        "df['ScheduledDay'] = pd.to_datetime(df['ScheduledDay'], errors='coerce').dt.strftime('%d-%m-%Y')\n",
        "df['AppointmentDay'] = pd.to_datetime(df['AppointmentDay'], errors='coerce').dt.strftime('%d-%m-%Y')\n",
        "print(df[['ScheduledDay', 'AppointmentDay']].head())\n",
        "\n",
        "\n",
        "#Rename column headers to be clean and uniform (e.g., lowercase, no spaces).\n",
        "\n",
        "df.columns = df.columns.str.strip().str.lower().str.replace('-', '_')\n",
        "print(\"Cleaned column data:\\n\",df.columns.tolist())\n",
        "\n",
        "#Check and fix data types (e.g., age should be int, date as datetime).\n",
        "\n",
        "df.age = df.age.astype(int)\n",
        "df.patientid = df.patientid.astype(str)\n",
        "print(df.dtypes)\n"
      ]
    }
  ]
}